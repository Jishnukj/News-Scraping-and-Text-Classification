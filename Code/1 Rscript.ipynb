{
 "cells": [
  {
   "cell_type": "code",
   "execution_count": 7,
   "metadata": {},
   "outputs": [
    {
     "data": {
      "text/html": [
       "<table>\n",
       "<thead><tr><th scope=col>Category</th><th scope=col>Number_of_Files</th></tr></thead>\n",
       "<tbody>\n",
       "\t<tr><td>business     </td><td>510          </td></tr>\n",
       "\t<tr><td>entertainment</td><td>386          </td></tr>\n",
       "\t<tr><td>politics     </td><td>417          </td></tr>\n",
       "\t<tr><td>sport        </td><td>511          </td></tr>\n",
       "\t<tr><td>tech         </td><td>401          </td></tr>\n",
       "</tbody>\n",
       "</table>\n"
      ],
      "text/latex": [
       "\\begin{tabular}{r|ll}\n",
       " Category & Number\\_of\\_Files\\\\\n",
       "\\hline\n",
       "\t business      & 510          \\\\\n",
       "\t entertainment & 386          \\\\\n",
       "\t politics      & 417          \\\\\n",
       "\t sport         & 511          \\\\\n",
       "\t tech          & 401          \\\\\n",
       "\\end{tabular}\n"
      ],
      "text/markdown": [
       "\n",
       "| Category | Number_of_Files |\n",
       "|---|---|\n",
       "| business      | 510           |\n",
       "| entertainment | 386           |\n",
       "| politics      | 417           |\n",
       "| sport         | 511           |\n",
       "| tech          | 401           |\n",
       "\n"
      ],
      "text/plain": [
       "  Category      Number_of_Files\n",
       "1 business      510            \n",
       "2 entertainment 386            \n",
       "3 politics      417            \n",
       "4 sport         511            \n",
       "5 tech          401            "
      ]
     },
     "metadata": {},
     "output_type": "display_data"
    }
   ],
   "source": [
    "library(readtext)\n",
    "rm(list = ls())\n",
    "setwd('Y:/project')\n",
    "path <- 'bbc'\n",
    "list_categories <- list.files(path=path)\n",
    "summary_categories <- data.frame(matrix(ncol = 2, nrow = 0))\n",
    "colnames(summary_categories) <- c('Category', 'Number_of_Files')\n",
    "\n",
    "for (category in list_categories){\n",
    "  category_path <- paste(path, category, sep='/')\n",
    "  n_files <- length(list.files(path=category_path))\n",
    "  \n",
    "  summary_categories = rbind(summary_categories, data.frame('Category'=category, 'Number_of_Files'=n_files))\n",
    "}\n",
    "\n",
    "summary_categories\n",
    "\n",
    "\n",
    "df_final <- data.frame(matrix(ncol = 3, nrow = 0))\n",
    "colnames(df_final) <- c('doc_id', 'text', 'category')\n",
    "\n",
    "for(category in list_categories){\n",
    "  category_path <- paste(path, category, sep='/')\n",
    "\n",
    "  df <- readtext(category_path)\n",
    "  df[\"category\"] = category\n",
    "  \n",
    "  df_final = rbind(df_final, df)\n",
    "}\n",
    "\n",
    "colnames(df_final) <- c('File_Name', 'Content', 'Category')\n",
    "\n",
    "df_final <-\n",
    "  df_final %>% \n",
    "  mutate(Complete_Filename = paste(File_Name, Category, sep='-'))\n",
    "\n",
    "save(df_final, file='Dataset.rda')\n",
    "load(file='Dataset.rda')\n",
    "write.csv2(df_final,fileEncoding = 'utf8', \"News_datasett.csv\", row.names = FALSE)"
   ]
  },
  {
   "cell_type": "code",
   "execution_count": null,
   "metadata": {},
   "outputs": [],
   "source": []
  }
 ],
 "metadata": {
  "kernelspec": {
   "display_name": "R",
   "language": "R",
   "name": "ir"
  },
  "language_info": {
   "codemirror_mode": "r",
   "file_extension": ".r",
   "mimetype": "text/x-r-source",
   "name": "R",
   "pygments_lexer": "r",
   "version": "3.6.1"
  }
 },
 "nbformat": 4,
 "nbformat_minor": 2
}
